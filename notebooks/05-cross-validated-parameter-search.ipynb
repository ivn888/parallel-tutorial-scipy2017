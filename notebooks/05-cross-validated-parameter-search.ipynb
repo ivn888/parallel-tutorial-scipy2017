{
 "cells": [
  {
   "cell_type": "markdown",
   "metadata": {},
   "source": [
    "Cross-Validated Parameter Search\n",
    "------------------------------------\n",
    "\n",
    "In this section we present an open ended problem, cross-validated parameter search, and encourage students to try one of the previously mentioned techniques to parallelize it.  Any of `map`, `submit`, or collections like `spark` or `dask.bag` will work fine.\n",
    "\n",
    "\n",
    "### Requirements\n",
    "\n",
    "*  SciKit Learn\n",
    "*  A parallel computing framework of your choice\n"
   ]
  },
  {
   "cell_type": "markdown",
   "metadata": {},
   "source": [
    "### Application\n",
    "\n",
    "We use grid search to find the optimal parameters for tuning a machine learning model.  This is slightly more complex than a map so we use `submit`.  We train the support vector classifier on handwritten digits using cross validation to avoid over-fitting.\n",
    "\n",
    "As before we start with a sequential solution."
   ]
  },
  {
   "cell_type": "markdown",
   "metadata": {},
   "source": [
    "### Imports"
   ]
  },
  {
   "cell_type": "code",
   "execution_count": 1,
   "metadata": {
    "collapsed": true
   },
   "outputs": [],
   "source": [
    "from sklearn.datasets import load_digits\n",
    "from sklearn.svm import SVC\n",
    "from sklearn.model_selection import ParameterSampler\n",
    "import numpy as np\n",
    "import pandas as pd\n",
    "%matplotlib inline\n",
    "import matplotlib.pyplot as plt"
   ]
  },
  {
   "cell_type": "markdown",
   "metadata": {},
   "source": [
    "### Data"
   ]
  },
  {
   "cell_type": "code",
   "execution_count": 2,
   "metadata": {
    "scrolled": false
   },
   "outputs": [
    {
     "data": {
      "image/png": "[encoded data removed]",
      "text/plain": [
       "<matplotlib.figure.Figure at 0x7f081d60d748>"
      ]
     },
     "metadata": {},
     "output_type": "display_data"
    }
   ],
   "source": [
    "digits = load_digits()  # Collect Data\n",
    "\n",
    "plt.imshow(digits.data[0].reshape(8, 8),  # Example element\n",
    "           interpolation='nearest', cmap='gray');"
   ]
  },
  {
   "cell_type": "markdown",
   "metadata": {},
   "source": [
    "### Utility functions"
   ]
  },
  {
   "cell_type": "markdown",
   "metadata": {},
   "source": [
    "We use three utility functions that we provide in the `cv_params_demo.py` module. The `load_cv_split` function splits the data into a training and test set. `evaluate_one` fits the model and scores it over the data for a particular set of tuning parameters. `plot_results` visualizes the model score over the sampled parameter space."
   ]
  },
  {
   "cell_type": "code",
   "execution_count": 3,
   "metadata": {
    "collapsed": true
   },
   "outputs": [],
   "source": [
    "from cv_params_demo import load_cv_split, evaluate_one, plot_results"
   ]
  },
  {
   "cell_type": "markdown",
   "metadata": {},
   "source": [
    "### Parameters\n",
    "\n",
    "`C`, `gamma`, and `tol` are all tunable parameters to the support-vector classifier, representing the penalty parameter of the error term, the kernel coefficient, and the stopping tolerance, respectively. Although `scikit-learn` can pick reasonable defaults for each of these, they can frequently be improved with additional knowledge of the data or by what we're doing here, randomly sampling the parameter space. We start with ten parameter samples, but can increase this after we've built our parallel solution."
   ]
  },
  {
   "cell_type": "code",
   "execution_count": 4,
   "metadata": {},
   "outputs": [
    {
     "data": {
      "text/plain": [
       "[{'C': 26302.679918953814,\n",
       "  'gamma': 5.011872336272725e-07,\n",
       "  'tol': 0.10000000000000001},\n",
       " {'C': 912010.83935591148,\n",
       "  'gamma': 114815.3621496884,\n",
       "  'tol': 0.10000000000000001},\n",
       " {'C': 63095734.44801943, 'gamma': 0.52480746024977332, 'tol': 0.001},\n",
       " {'C': 0.019054607179632442, 'gamma': 1.1481536214968841e-10, 'tol': 0.001},\n",
       " {'C': 9.1201083935591153e-10, 'gamma': 0.0063095734448019303, 'tol': 0.01},\n",
       " {'C': 7.2443596007499058e-06, 'gamma': 2.29086765276777e-08, 'tol': 0.01},\n",
       " {'C': 0.0017378008287493763, 'gamma': 7.9432823472428217e-06, 'tol': 0.01},\n",
       " {'C': 3.6307805477010174e-05, 'gamma': 5.0118723362727251e-05, 'tol': 0.01},\n",
       " {'C': 1.148153621496884e-08, 'gamma': 0.034673685045253234, 'tol': 0.01},\n",
       " {'C': 50118.723362727353, 'gamma': 3.4673685045253096e-09, 'tol': 0.0001}]"
      ]
     },
     "execution_count": 4,
     "metadata": {},
     "output_type": "execute_result"
    }
   ],
   "source": [
    "param_grid = {\n",
    "    'C': np.logspace(-10, 10, 1001),\n",
    "    'gamma': np.logspace(-10, 10, 1001),\n",
    "    'tol': np.logspace(-4, -1, 4),\n",
    "}\n",
    "\n",
    "param_samples = ParameterSampler(param_grid, 10)\n",
    "\n",
    "list(param_samples)"
   ]
  },
  {
   "cell_type": "markdown",
   "metadata": {},
   "source": [
    "### Split data for cross-validation\n",
    "\n",
    "For now, we'll only build two randomly-chosen splits of the data for training and testing. We can increase this number after we've built our parallel solution."
   ]
  },
  {
   "cell_type": "code",
   "execution_count": 5,
   "metadata": {},
   "outputs": [
    {
     "data": {
      "text/plain": [
       "(array([[  0.,   0.,   0., ...,  16.,  16.,   6.],\n",
       "        [  0.,   3.,  12., ...,  16.,   2.,   0.],\n",
       "        [  0.,   1.,  10., ...,   0.,   0.,   0.],\n",
       "        ..., \n",
       "        [  0.,   0.,   5., ...,   0.,   0.,   0.],\n",
       "        [  0.,   0.,   4., ...,   0.,   0.,   0.],\n",
       "        [  0.,   0.,   6., ...,  11.,   0.,   0.]]),\n",
       " array([6, 5, 3, ..., 7, 7, 8]))"
      ]
     },
     "execution_count": 5,
     "metadata": {},
     "output_type": "execute_result"
    }
   ],
   "source": [
    "from cv_params_demo import load_cv_split\n",
    "\n",
    "cv_splits = [load_cv_split(i) for i in range(2)]\n",
    "idx, (x_train, x_test, y_train, y_test) = cv_splits[0]\n",
    "x_train, y_train"
   ]
  },
  {
   "cell_type": "markdown",
   "metadata": {},
   "source": [
    "### Sequential cross validated parameter search\n",
    "\n",
    "The below code sequentially loops over the randomly created data splits and parameter samples to create a list of scored samples over the parameter space."
   ]
  },
  {
   "cell_type": "code",
   "execution_count": 8,
   "metadata": {
    "scrolled": true
   },
   "outputs": [
    {
     "name": "stdout",
     "output_type": "stream",
     "text": [
      "CPU times: user 13.6 s, sys: 4 ms, total: 13.6 s\n",
      "Wall time: 13.6 s\n"
     ]
    }
   ],
   "source": [
    "%%time\n",
    "\n",
    "results = []\n",
    "\n",
    "for split in cv_splits:\n",
    "    for params in param_samples:\n",
    "        result = evaluate_one(SVC, params, split)\n",
    "        results.append(result)"
   ]
  },
  {
   "cell_type": "markdown",
   "metadata": {},
   "source": [
    "### Plot results\n",
    "\n",
    "Which region of the parameter space is scoring well (higher is better)?  Are the number of samples we've computed sufficient to completely tune the model?  \n",
    "\n",
    "Searching over more parameters would help to improve the intuition we can gain here."
   ]
  },
  {
   "cell_type": "code",
   "execution_count": 9,
   "metadata": {},
   "outputs": [
    {
     "data": {
      "image/png": "[encoded data removed]",
      "text/plain": [
       "<matplotlib.figure.Figure at 0x7f08197faeb8>"
      ]
     },
     "metadata": {},
     "output_type": "display_data"
    }
   ],
   "source": [
    "from cv_params_demo import plot_results\n",
    "\n",
    "plot_results(results)"
   ]
  },
  {
   "cell_type": "markdown",
   "metadata": {},
   "source": [
    "### Exercise: Parallel cross validated parameter search\n",
    "\n",
    "Try using some of the techniques we've used before (or other techniques altogether) to parallelize the above computation.  \n",
    "\n",
    "Afterwards, increase the number of parameters to help improve our understanding of the image."
   ]
  },
  {
   "cell_type": "code",
   "execution_count": 18,
   "metadata": {
    "collapsed": true
   },
   "outputs": [],
   "source": [
    "cv_splits = [load_cv_split(i) for i in range(2)]  # Increase the number 2 after parallel computation acheived\n",
    "param_samples = ParameterSampler(param_grid, 10)    # Increase the number 10 after parallel computation acheived"
   ]
  },
  {
   "cell_type": "code",
   "execution_count": 19,
   "metadata": {
    "collapsed": true
   },
   "outputs": [],
   "source": [
    "from concurrent.futures import ThreadPoolExecutor, ProcessPoolExecutor"
   ]
  },
  {
   "cell_type": "code",
   "execution_count": 22,
   "metadata": {
    "collapsed": true
   },
   "outputs": [],
   "source": [
    "e = ThreadPoolExecutor(4)\n",
    "#e = ProcessPoolExecutor(4)"
   ]
  },
  {
   "cell_type": "code",
   "execution_count": 23,
   "metadata": {},
   "outputs": [
    {
     "name": "stdout",
     "output_type": "stream",
     "text": [
      "CPU times: user 19.2 s, sys: 92 ms, total: 19.3 s\n",
      "Wall time: 5.25 s\n"
     ]
    }
   ],
   "source": [
    "%%time\n",
    "\n",
    "futures = []\n",
    "for split in cv_splits:\n",
    "    for params in param_samples:\n",
    "        futures.append(e.submit(evaluate_one, SVC, params, split))\n",
    "        \n",
    "results = [f.result() for f in futures]"
   ]
  },
  {
   "cell_type": "code",
   "execution_count": 17,
   "metadata": {},
   "outputs": [
    {
     "data": {
      "image/png": "[encoded data removed]",
      "text/plain": [
       "<matplotlib.figure.Figure at 0x7f081d2870b8>"
      ]
     },
     "metadata": {},
     "output_type": "display_data"
    }
   ],
   "source": [
    "plot_results(results)"
   ]
  },
  {
   "cell_type": "code",
   "execution_count": 26,
   "metadata": {
    "collapsed": true
   },
   "outputs": [],
   "source": [
    "from dask import delayed, compute"
   ]
  },
  {
   "cell_type": "code",
   "execution_count": 43,
   "metadata": {},
   "outputs": [
    {
     "name": "stdout",
     "output_type": "stream",
     "text": [
      "CPU times: user 19.3 s, sys: 44 ms, total: 19.3 s\n",
      "Wall time: 5.24 s\n"
     ]
    }
   ],
   "source": [
    "%%time\n",
    "\n",
    "futures = [delayed(evaluate_one)(SVC, params, split) \n",
    "           for params in param_samples\n",
    "           for split in cv_splits]\n",
    "results = compute(futures)[0]"
   ]
  },
  {
   "cell_type": "code",
   "execution_count": 45,
   "metadata": {},
   "outputs": [
    {
     "data": {
      "image/png": "[encoded data removed]",
      "text/plain": [
       "<matplotlib.figure.Figure at 0x7f081d350b00>"
      ]
     },
     "metadata": {},
     "output_type": "display_data"
    }
   ],
   "source": [
    "plot_results(results)"
   ]
  },
  {
   "cell_type": "code",
   "execution_count": 42,
   "metadata": {
    "collapsed": true
   },
   "outputs": [],
   "source": [
    "# %load solutions/cvgs-1.py\n",
    "from concurrent.futures import ThreadPoolExecutor\n",
    "e = ThreadPoolExecutor()\n",
    "\n",
    "futures = []\n",
    "\n",
    "parameters = list(param_samples)\n",
    "\n",
    "for split in cv_splits:\n",
    "    for params in parameters:\n",
    "        future = e.submit(evaluate_one, SVC, params, split)\n",
    "        futures.append(future)\n",
    "\n",
    "results = [f.result() for f in futures]\n"
   ]
  },
  {
   "cell_type": "code",
   "execution_count": null,
   "metadata": {},
   "outputs": [],
   "source": [
    "plot_results(results)"
   ]
  },
  {
   "cell_type": "code",
   "execution_count": null,
   "metadata": {
    "collapsed": true
   },
   "outputs": [],
   "source": [
    "# %load solutions/cvgs-2.py\n",
    "from pyspark import SparkContext\n",
    "sc = SparkContext('local[4]')\n",
    "\n",
    "cv_rdd = sc.parallelize(cv_splits)\n",
    "param_rdd = sc.parallelize(list(param_samples))\n",
    "\n",
    "rdd = param_rdd.cartesian(cv_rdd)\n",
    "results = rdd.map(lambda tup: evaluate_one(SVC, tup[0], tup[1]))\n",
    "\n",
    "results = results.collect()\n"
   ]
  },
  {
   "cell_type": "code",
   "execution_count": null,
   "metadata": {
    "collapsed": true
   },
   "outputs": [],
   "source": [
    "plot_results(results)"
   ]
  }
 ],
 "metadata": {
  "kernelspec": {
   "display_name": "Python 3",
   "language": "python",
   "name": "python3"
  },
  "language_info": {
   "codemirror_mode": {
    "name": "ipython",
    "version": 3
   },
   "file_extension": ".py",
   "mimetype": "text/x-python",
   "name": "python",
   "nbconvert_exporter": "python",
   "pygments_lexer": "ipython3",
   "version": "3.5.3"
  }
 },
 "nbformat": 4,
 "nbformat_minor": 1
}
